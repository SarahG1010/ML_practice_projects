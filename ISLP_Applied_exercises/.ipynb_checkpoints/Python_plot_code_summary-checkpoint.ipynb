{
 "cells": [
  {
   "cell_type": "code",
   "execution_count": null,
   "id": "f9a64760-2ba6-4bbf-8b6b-2a86d62492bb",
   "metadata": {},
   "outputs": [],
   "source": []
  },
  {
   "cell_type": "markdown",
   "id": "402d4dfe-9db7-4768-ad8f-f77ad557f1ed",
   "metadata": {},
   "source": [
    "# 3 ways to plot multi subplots in one plot"
   ]
  },
  {
   "cell_type": "markdown",
   "id": "01685cee-2568-4eb6-a639-15a952b59663",
   "metadata": {},
   "source": [
    "## Method 1: Using `plt.subplots()`"
   ]
  },
  {
   "cell_type": "code",
   "execution_count": null,
   "id": "1e2099a2-8ac8-44db-9b46-3be26c3ed4c8",
   "metadata": {},
   "outputs": [],
   "source": [
    "import matplotlib.pyplot as plt\n",
    "\n",
    "fig, axes = plt.subplots(2, 2)\n",
    "\n",
    "# Now, you can access each subplot using indexing\n",
    "axes[0, 0].plot(x1, y1)\n",
    "axes[0, 1].plot(x2, y2)\n",
    "axes[1, 0].plot(x3, y3)\n",
    "axes[1, 1].plot(x4, y4)\n",
    "\n",
    "plt.show()"
   ]
  },
  {
   "cell_type": "markdown",
   "id": "ed1e05a2-0c4d-477b-acb6-8e9733a7e04b",
   "metadata": {},
   "source": [
    "## Method 2: Using `add_subplot()`"
   ]
  },
  {
   "cell_type": "code",
   "execution_count": null,
   "id": "0448a61d-3608-4101-ad51-3ff8e41ec679",
   "metadata": {},
   "outputs": [],
   "source": [
    "import matplotlib.pyplot as plt\n",
    "\n",
    "plt.subplot(2, 2, 1)\n",
    "plt.plot(x1, y1)\n",
    "\n",
    "plt.subplot(2, 2, 2)\n",
    "plt.plot(x2, y2)\n",
    "\n",
    "plt.subplot(2, 2, 3)\n",
    "plt.plot(x3, y3)\n",
    "\n",
    "plt.subplot(2, 2, 4)\n",
    "plt.plot(x4, y4)\n",
    "\n",
    "plt.show()\n"
   ]
  },
  {
   "cell_type": "markdown",
   "id": "831c3c52-40eb-4e0e-bcf6-36f767ad2e84",
   "metadata": {},
   "source": [
    "## Method 3: Using `plt.subplot()`"
   ]
  },
  {
   "cell_type": "code",
   "execution_count": null,
   "id": "08d47561-ced3-42d5-bf89-ef7c348b08a6",
   "metadata": {},
   "outputs": [],
   "source": [
    "import matplotlib.pyplot as plt\n",
    "\n",
    "fig = plt.figure()\n",
    "\n",
    "ax1 = fig.add_subplot(2, 2, 1)\n",
    "ax1.plot(x1, y1)\n",
    "\n",
    "ax2 = fig.add_subplot(2, 2, 2)\n",
    "ax2.plot(x2, y2)\n",
    "\n",
    "ax3 = fig.add_subplot(2, 2, 3)\n",
    "ax3.plot(x3, y3)\n",
    "\n",
    "ax4 = fig.add_subplot(2, 2, 4)\n",
    "ax4.plot(x4, y4)\n",
    "\n",
    "plt.show()\n"
   ]
  },
  {
   "cell_type": "code",
   "execution_count": null,
   "id": "ec34d9c2-8b77-4f2e-bd7e-2c5f3e4683d9",
   "metadata": {},
   "outputs": [],
   "source": []
  }
 ],
 "metadata": {
  "kernelspec": {
   "display_name": "Python 3 (ipykernel)",
   "language": "python",
   "name": "python3"
  },
  "language_info": {
   "codemirror_mode": {
    "name": "ipython",
    "version": 3
   },
   "file_extension": ".py",
   "mimetype": "text/x-python",
   "name": "python",
   "nbconvert_exporter": "python",
   "pygments_lexer": "ipython3",
   "version": "3.11.7"
  }
 },
 "nbformat": 4,
 "nbformat_minor": 5
}
