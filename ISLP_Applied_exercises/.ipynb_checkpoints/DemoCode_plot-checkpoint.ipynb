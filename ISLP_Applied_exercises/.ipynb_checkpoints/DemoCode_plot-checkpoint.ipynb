{
 "cells": [
  {
   "cell_type": "markdown",
   "id": "6e2e7f5d-b36a-43bc-9a91-ce52d7c7a4d4",
   "metadata": {},
   "source": [
    "references:\n",
    "* https://botlnec.github.io/islp/sols/chapter3/exercise14/\n",
    "* https://botlnec.github.io/islp/sols/chapter3/exercise15/"
   ]
  },
  {
   "cell_type": "code",
   "execution_count": null,
   "id": "c6f242fa-95c6-49b5-a532-e948db2daeba",
   "metadata": {},
   "outputs": [],
   "source": []
  },
  {
   "cell_type": "code",
   "execution_count": null,
   "id": "04fdfd98-a146-4b9e-b340-6937184a08c5",
   "metadata": {},
   "outputs": [],
   "source": []
  },
  {
   "cell_type": "code",
   "execution_count": null,
   "id": "c7d5b272-7bcf-4f78-953c-d5d30d2848b2",
   "metadata": {},
   "outputs": [],
   "source": []
  },
  {
   "cell_type": "code",
   "execution_count": null,
   "id": "f3587440-02a3-420c-ae7c-d2c8436dff09",
   "metadata": {},
   "outputs": [],
   "source": []
  },
  {
   "cell_type": "code",
   "execution_count": null,
   "id": "0a8ec582-deaf-4d63-a1f7-5c54cdcb73c5",
   "metadata": {},
   "outputs": [],
   "source": []
  },
  {
   "cell_type": "code",
   "execution_count": null,
   "id": "d90a21fd-dfc5-44c8-ad4a-27f8f01647dc",
   "metadata": {},
   "outputs": [],
   "source": []
  },
  {
   "cell_type": "code",
   "execution_count": null,
   "id": "698c0bcb-d67f-4a5c-a4bd-9582964fbe61",
   "metadata": {},
   "outputs": [],
   "source": []
  },
  {
   "cell_type": "code",
   "execution_count": null,
   "id": "eaad0dc0-0221-4f1d-a856-935948a1a150",
   "metadata": {},
   "outputs": [],
   "source": []
  },
  {
   "cell_type": "code",
   "execution_count": null,
   "id": "2a2ac568-106f-43cf-bb2a-24d5273fc3ef",
   "metadata": {},
   "outputs": [],
   "source": []
  },
  {
   "cell_type": "code",
   "execution_count": null,
   "id": "63114ca1-56d3-4162-b9c1-50da8f5ba79f",
   "metadata": {},
   "outputs": [],
   "source": []
  },
  {
   "cell_type": "code",
   "execution_count": null,
   "id": "9ea64d9c-6491-4e28-abab-9edebad44bf2",
   "metadata": {},
   "outputs": [],
   "source": []
  },
  {
   "cell_type": "code",
   "execution_count": null,
   "id": "72600825-f04d-4f68-b35d-c2ab454d2483",
   "metadata": {},
   "outputs": [],
   "source": []
  },
  {
   "cell_type": "code",
   "execution_count": null,
   "id": "6a1adc73-7808-477d-83a6-e75ea0eef8b1",
   "metadata": {},
   "outputs": [],
   "source": []
  }
 ],
 "metadata": {
  "kernelspec": {
   "display_name": "Python 3 (ipykernel)",
   "language": "python",
   "name": "python3"
  },
  "language_info": {
   "codemirror_mode": {
    "name": "ipython",
    "version": 3
   },
   "file_extension": ".py",
   "mimetype": "text/x-python",
   "name": "python",
   "nbconvert_exporter": "python",
   "pygments_lexer": "ipython3",
   "version": "3.11.7"
  }
 },
 "nbformat": 4,
 "nbformat_minor": 5
}
