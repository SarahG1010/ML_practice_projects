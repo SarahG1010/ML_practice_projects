{
 "cells": [
  {
   "cell_type": "markdown",
   "id": "6e2e7f5d-b36a-43bc-9a91-ce52d7c7a4d4",
   "metadata": {},
   "source": [
    "references:\n",
    "* https://botlnec.github.io/islp/sols/chapter5/exercise6/\n",
    "* solution notebook for ISLP CH5 create by Sarah Guo\n",
    "* https://www.kaggle.com/code/suugaku/islr-chapter-5-applied-exercises-python"
   ]
  },
  {
   "cell_type": "markdown",
   "id": "c5f1f557-9b61-4210-a83a-6f2b7282ec4c",
   "metadata": {},
   "source": [
    "### Resampling to caculate the mean and SE for 'not means\"\n",
    "\n",
    "#### concept:\n",
    "* series.std:\n",
    "* series.mean:\n",
    "* se of mean\n",
    "\n",
    "#### for not means:\n",
    "* bootstrap:"
   ]
  },
  {
   "cell_type": "markdown",
   "id": "5e6b3f6b-8376-42ac-8b53-7c7e402deb9a",
   "metadata": {},
   "source": []
  },
  {
   "cell_type": "code",
   "execution_count": null,
   "id": "eaad0dc0-0221-4f1d-a856-935948a1a150",
   "metadata": {},
   "outputs": [],
   "source": []
  },
  {
   "cell_type": "code",
   "execution_count": null,
   "id": "2a2ac568-106f-43cf-bb2a-24d5273fc3ef",
   "metadata": {},
   "outputs": [],
   "source": []
  },
  {
   "cell_type": "code",
   "execution_count": null,
   "id": "63114ca1-56d3-4162-b9c1-50da8f5ba79f",
   "metadata": {},
   "outputs": [],
   "source": []
  },
  {
   "cell_type": "code",
   "execution_count": null,
   "id": "9ea64d9c-6491-4e28-abab-9edebad44bf2",
   "metadata": {},
   "outputs": [],
   "source": []
  },
  {
   "cell_type": "code",
   "execution_count": null,
   "id": "72600825-f04d-4f68-b35d-c2ab454d2483",
   "metadata": {},
   "outputs": [],
   "source": []
  },
  {
   "cell_type": "code",
   "execution_count": null,
   "id": "6a1adc73-7808-477d-83a6-e75ea0eef8b1",
   "metadata": {},
   "outputs": [],
   "source": []
  }
 ],
 "metadata": {
  "kernelspec": {
   "display_name": "Python 3 (ipykernel)",
   "language": "python",
   "name": "python3"
  },
  "language_info": {
   "codemirror_mode": {
    "name": "ipython",
    "version": 3
   },
   "file_extension": ".py",
   "mimetype": "text/x-python",
   "name": "python",
   "nbconvert_exporter": "python",
   "pygments_lexer": "ipython3",
   "version": "3.11.7"
  }
 },
 "nbformat": 4,
 "nbformat_minor": 5
}
