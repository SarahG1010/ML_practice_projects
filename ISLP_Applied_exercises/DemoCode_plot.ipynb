{
 "cells": [
  {
   "cell_type": "markdown",
   "id": "6e2e7f5d-b36a-43bc-9a91-ce52d7c7a4d4",
   "metadata": {},
   "source": [
    "references:\n",
    "* https://botlnec.github.io/islp/sols/chapter3/exercise14/\n",
    "* https://botlnec.github.io/islp/sols/chapter3/exercise15/\n",
    "* https://botlnec.github.io/islp/sols/chapter4/exercise10/"
   ]
  },
  {
   "cell_type": "markdown",
   "id": "99f89e55-d0b3-4329-8e0e-e84a75cfaaf3",
   "metadata": {},
   "source": [
    "# Matplotlib\n",
    "* diff between subplot and subplots\n",
    "* Single plot (kinds/set title/label func)\n",
    "* subplot\n",
    "* overlap plot (same y, diff y)\n",
    "* matrix plot"
   ]
  },
  {
   "cell_type": "code",
   "execution_count": null,
   "id": "04fdfd98-a146-4b9e-b340-6937184a08c5",
   "metadata": {},
   "outputs": [],
   "source": []
  },
  {
   "cell_type": "markdown",
   "id": "3025f1b1-90d2-44c8-ab45-4b3956d5b996",
   "metadata": {},
   "source": [
    "# Seaborn\n",
    "* Single plot (kinds/set title/label func)\n",
    "* subplot\n",
    "* overlap plot (same y, diff y)\n",
    "* matrix plot"
   ]
  },
  {
   "cell_type": "code",
   "execution_count": null,
   "id": "f3587440-02a3-420c-ae7c-d2c8436dff09",
   "metadata": {},
   "outputs": [],
   "source": []
  },
  {
   "cell_type": "markdown",
   "id": "a401f4f3-d7b3-48a2-9508-3d786fc1b0a4",
   "metadata": {},
   "source": [
    "# Pandas"
   ]
  },
  {
   "cell_type": "code",
   "execution_count": null,
   "id": "d90a21fd-dfc5-44c8-ad4a-27f8f01647dc",
   "metadata": {},
   "outputs": [],
   "source": []
  },
  {
   "cell_type": "code",
   "execution_count": null,
   "id": "698c0bcb-d67f-4a5c-a4bd-9582964fbe61",
   "metadata": {},
   "outputs": [],
   "source": []
  },
  {
   "cell_type": "code",
   "execution_count": null,
   "id": "eaad0dc0-0221-4f1d-a856-935948a1a150",
   "metadata": {},
   "outputs": [],
   "source": []
  },
  {
   "cell_type": "code",
   "execution_count": null,
   "id": "2a2ac568-106f-43cf-bb2a-24d5273fc3ef",
   "metadata": {},
   "outputs": [],
   "source": []
  },
  {
   "cell_type": "code",
   "execution_count": null,
   "id": "63114ca1-56d3-4162-b9c1-50da8f5ba79f",
   "metadata": {},
   "outputs": [],
   "source": []
  },
  {
   "cell_type": "code",
   "execution_count": null,
   "id": "9ea64d9c-6491-4e28-abab-9edebad44bf2",
   "metadata": {},
   "outputs": [],
   "source": []
  },
  {
   "cell_type": "code",
   "execution_count": null,
   "id": "72600825-f04d-4f68-b35d-c2ab454d2483",
   "metadata": {},
   "outputs": [],
   "source": []
  },
  {
   "cell_type": "code",
   "execution_count": null,
   "id": "6a1adc73-7808-477d-83a6-e75ea0eef8b1",
   "metadata": {},
   "outputs": [],
   "source": []
  }
 ],
 "metadata": {
  "kernelspec": {
   "display_name": "Python 3 (ipykernel)",
   "language": "python",
   "name": "python3"
  },
  "language_info": {
   "codemirror_mode": {
    "name": "ipython",
    "version": 3
   },
   "file_extension": ".py",
   "mimetype": "text/x-python",
   "name": "python",
   "nbconvert_exporter": "python",
   "pygments_lexer": "ipython3",
   "version": "3.11.7"
  }
 },
 "nbformat": 4,
 "nbformat_minor": 5
}
