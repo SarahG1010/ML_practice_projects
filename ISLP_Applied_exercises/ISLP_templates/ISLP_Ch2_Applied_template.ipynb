{
  "nbformat": 4,
  "nbformat_minor": 0,
  "metadata": {
    "colab": {
      "provenance": []
    },
    "kernelspec": {
      "name": "python3",
      "display_name": "Python 3"
    },
    "language_info": {
      "name": "python"
    }
  },
  "cells": [
    {
      "cell_type": "markdown",
      "source": [
        "This is the notebook template for ISLP Charpter 2 applied practice."
      ],
      "metadata": {
        "id": "jW2TynzhjNQG"
      }
    },
    {
      "cell_type": "markdown",
      "source": [
        "## 2.8\n",
        "This exercise relates to the College data set, which can be found in the file College.csv on the book website. It contains a number of variables for 777 different universities and colleges in the US."
      ],
      "metadata": {
        "id": "wKNGmYmvjM1W"
      }
    },
    {
      "cell_type": "markdown",
      "source": [
        "(a) Use the `pd.read_csv()` function to read the data into Python. Call the loaded data `college`. Make sure that you have the directory set to the correct location for the data."
      ],
      "metadata": {
        "id": "yh1y_zJIj3sY"
      }
    },
    {
      "cell_type": "code",
      "execution_count": null,
      "metadata": {
        "id": "y4rpgaEFihfu"
      },
      "outputs": [],
      "source": []
    },
    {
      "cell_type": "markdown",
      "source": [
        "(b) Look at the data used in the notebook by creating and running a new cell with just the code `college` in it. You should notice that the first column is just the name of each university in a column named something like `Unnamed: 0`. We don’t really want `pandas` to treat this as data. However, it may be handy to have these names for later. Try the following commands and similarly look at the resulting data frames:"
      ],
      "metadata": {
        "id": "a40pxuFGj61q"
      }
    },
    {
      "cell_type": "code",
      "source": [
        "college2 = pd.read_csv('College.csv', index_col=0)\n",
        "college3 = college.rename({'Unnamed: 0': 'College'},\n",
        "axis=1)\n",
        "college3 = college3.set_index('College')"
      ],
      "metadata": {
        "id": "luqufHD6kLmx"
      },
      "execution_count": null,
      "outputs": []
    },
    {
      "cell_type": "markdown",
      "source": [
        "This has used the first column in the file as an `index` for the data frame. This means that `pandas` has given each row a name corresponding to the appropriate university. Now you should see that the first data column is `Private`. Note that the names of the colleges appear on the left of the table. We also introduced a new python object above: a dictionary, which is specified by `(key, value)` pairs. Keep your modified version of the data with the following:"
      ],
      "metadata": {
        "id": "VQqrUHHgkMKk"
      }
    },
    {
      "cell_type": "code",
      "source": [
        "college = college3"
      ],
      "metadata": {
        "id": "PY7aWYQOkl55"
      },
      "execution_count": null,
      "outputs": []
    },
    {
      "cell_type": "markdown",
      "source": [
        "(c) Use the `describe()` method of to produce a numerical summary of the variables in the data set."
      ],
      "metadata": {
        "id": "F54NmvcnkoEu"
      }
    },
    {
      "cell_type": "code",
      "source": [],
      "metadata": {
        "id": "C3uxtvVlksSa"
      },
      "execution_count": null,
      "outputs": []
    },
    {
      "cell_type": "markdown",
      "source": [
        "(d) Use the pd.plotting.`scatter_matrix()` function to produce a scatterplotmatrixofthefirstcolumns`[Top10perc, Apps, Enroll]`. Recall that you can reference a list C of columns of a data frame\n",
        "`A` using `A[C]`."
      ],
      "metadata": {
        "id": "X6bk7Bkvksnq"
      }
    },
    {
      "cell_type": "code",
      "source": [],
      "metadata": {
        "id": "51zLwh_Ak0it"
      },
      "execution_count": null,
      "outputs": []
    },
    {
      "cell_type": "markdown",
      "source": [
        "(e) Use the `boxplot()` method of `college` to produce side-by-side boxplots of `Outstate` versus `Private`."
      ],
      "metadata": {
        "id": "IXSvXYrTk08r"
      }
    },
    {
      "cell_type": "code",
      "source": [],
      "metadata": {
        "id": "bAwQN4vOk7Y-"
      },
      "execution_count": null,
      "outputs": []
    },
    {
      "cell_type": "markdown",
      "source": [
        "(f)Create a new qualitative variable, called `Elite`, by binning the `Top10perc` variable into two groups based on whether or not the proportion of students coming from the top 10% of their high school classes exceeds 50%."
      ],
      "metadata": {
        "id": "po1XxsS6k7uL"
      }
    },
    {
      "cell_type": "code",
      "source": [
        "college['Elite'] = pd.cut(college['Top10perc'], [0,0.5,1],\n",
        "labels=['No', 'Yes'])\n",
        ""
      ],
      "metadata": {
        "id": "1B8JLdjIlC_g"
      },
      "execution_count": null,
      "outputs": []
    },
    {
      "cell_type": "markdown",
      "source": [
        "Use the `value_counts()` method of college`['Elite']` to see how many elite universities there are. Finally, use the `boxplot()` method again to produce side-by-side boxplots of `Outstate` versus `Elite`."
      ],
      "metadata": {
        "id": "zUNS8pvulDYb"
      }
    },
    {
      "cell_type": "code",
      "source": [],
      "metadata": {
        "id": "qhUcFVT3lPiX"
      },
      "execution_count": null,
      "outputs": []
    },
    {
      "cell_type": "markdown",
      "source": [
        "(g) Use the `plot.hist()` method of `college` to produce some his- tograms with differing numbers of bins for a few of the quanti- tative variables. The command `plt.subplots(2, 2)` may be use- ful: it will divide the plot window into four regions so that four plots can be made simultaneously. By changing the arguments you can divide the screen up in other combinations."
      ],
      "metadata": {
        "id": "1PkW59G2lRTK"
      }
    },
    {
      "cell_type": "code",
      "source": [],
      "metadata": {
        "id": "y9TcZYWDlXND"
      },
      "execution_count": null,
      "outputs": []
    },
    {
      "cell_type": "markdown",
      "source": [
        "(h) Continue exploring the data, and provide a brief summary of what you discover."
      ],
      "metadata": {
        "id": "WRvGZ_UMlZIc"
      }
    },
    {
      "cell_type": "code",
      "source": [],
      "metadata": {
        "id": "pcSrLLqxlavT"
      },
      "execution_count": null,
      "outputs": []
    },
    {
      "cell_type": "markdown",
      "source": [
        "## 2.9\n",
        "This exercise involves the `Auto` data set studied in the lab. Make sure that the missing values have been removed from the data."
      ],
      "metadata": {
        "id": "YGeBt4OIlbDr"
      }
    },
    {
      "cell_type": "markdown",
      "source": [
        "(a) Which of the predictors are quantitative, and which are quali- tative?"
      ],
      "metadata": {
        "id": "smztbBCklnX8"
      }
    },
    {
      "cell_type": "code",
      "source": [],
      "metadata": {
        "id": "6ACvpbNElp-N"
      },
      "execution_count": null,
      "outputs": []
    },
    {
      "cell_type": "markdown",
      "source": [
        "(b) What is the range of each quantitative predictor? You can an- swer this using the `min()` and `max()` methods in numpy."
      ],
      "metadata": {
        "id": "-DTUyYh5lqVT"
      }
    },
    {
      "cell_type": "code",
      "source": [],
      "metadata": {
        "id": "Vs4PlIahluhx"
      },
      "execution_count": null,
      "outputs": []
    },
    {
      "cell_type": "markdown",
      "source": [
        "(c) What is the mean and standard deviation of each quantitative predictor?"
      ],
      "metadata": {
        "id": "t_zgJfmqlvH6"
      }
    },
    {
      "cell_type": "code",
      "source": [],
      "metadata": {
        "id": "zbJgcsFplxky"
      },
      "execution_count": null,
      "outputs": []
    },
    {
      "cell_type": "markdown",
      "source": [
        "(d) Now remove the 10th through 85th observations. What is the range, mean, and standard deviation of each predictor in the subset of the data that remains?"
      ],
      "metadata": {
        "id": "ShaKb0KNlyHr"
      }
    },
    {
      "cell_type": "code",
      "source": [],
      "metadata": {
        "id": "4ZGc-zdVl2kt"
      },
      "execution_count": null,
      "outputs": []
    },
    {
      "cell_type": "markdown",
      "source": [
        "(e) Using the full data set, investigate the predictors graphically, using scatterplots or other tools of your choice. Create some plots highlighting the relationships among the predictors. Comment on your findings."
      ],
      "metadata": {
        "id": "QAuVbalbl26N"
      }
    },
    {
      "cell_type": "code",
      "source": [],
      "metadata": {
        "id": "mo9_55qll4ph"
      },
      "execution_count": null,
      "outputs": []
    },
    {
      "cell_type": "markdown",
      "source": [
        "(f) Suppose that we wish to predict `gas mileage (mpg)` on the basis of the other variables. Do your plots suggest that any of the other variables might be useful in predicting `mpg`? Justify your answer."
      ],
      "metadata": {
        "id": "IfNQeN_2l5Rl"
      }
    },
    {
      "cell_type": "code",
      "source": [],
      "metadata": {
        "id": "VqSTm0HAl_6H"
      },
      "execution_count": null,
      "outputs": []
    },
    {
      "cell_type": "markdown",
      "source": [
        "## 2.10\n",
        "This exercise involves the Boston housing data set."
      ],
      "metadata": {
        "id": "QnHHg3HfmAb7"
      }
    },
    {
      "cell_type": "markdown",
      "source": [
        "(a) To begin, load in the `Boston` data set, which is part of the ISLP\n",
        "library."
      ],
      "metadata": {
        "id": "YFTmJ0pQmFGW"
      }
    },
    {
      "cell_type": "code",
      "source": [],
      "metadata": {
        "id": "q7u7_9ZAmISM"
      },
      "execution_count": null,
      "outputs": []
    },
    {
      "cell_type": "markdown",
      "source": [
        "(b) How many rows are in this data set? How many columns? What do the rows and columns represent?"
      ],
      "metadata": {
        "id": "6RuQ5GORmItp"
      }
    },
    {
      "cell_type": "code",
      "source": [],
      "metadata": {
        "id": "C3qT1KGymLeD"
      },
      "execution_count": null,
      "outputs": []
    },
    {
      "cell_type": "markdown",
      "source": [
        "(c) Make some pairwise scatterplots of the predictors (columns) in this data set. Describe your findings."
      ],
      "metadata": {
        "id": "uTOLLA0LmL2T"
      }
    },
    {
      "cell_type": "code",
      "source": [],
      "metadata": {
        "id": "GloBLajnmOez"
      },
      "execution_count": null,
      "outputs": []
    },
    {
      "cell_type": "markdown",
      "source": [
        "(d) Are any of the predictors associated with per capita crime rate? If so, explain the relationship."
      ],
      "metadata": {
        "id": "hqTx99xKmOyf"
      }
    },
    {
      "cell_type": "code",
      "source": [],
      "metadata": {
        "id": "s9awJIQ9mRj9"
      },
      "execution_count": null,
      "outputs": []
    },
    {
      "cell_type": "markdown",
      "source": [
        "(e) Do any of the suburbs of Boston appear to have particularly high crime rates? Tax rates? Pupil-teacher ratios? Comment on the range of each predictor."
      ],
      "metadata": {
        "id": "EQbP8qsamREE"
      }
    },
    {
      "cell_type": "code",
      "source": [],
      "metadata": {
        "id": "rWFO0w1NmUdd"
      },
      "execution_count": null,
      "outputs": []
    },
    {
      "cell_type": "markdown",
      "source": [
        "(f) How many of the suburbs in this data set bound the Charles river?"
      ],
      "metadata": {
        "id": "e2UPTRgTmU3d"
      }
    },
    {
      "cell_type": "code",
      "source": [],
      "metadata": {
        "id": "3p452I1emW0R"
      },
      "execution_count": null,
      "outputs": []
    },
    {
      "cell_type": "markdown",
      "source": [
        "(g) What is the median pupil-teacher ratio among the towns in this data set?"
      ],
      "metadata": {
        "id": "xlq1b_oOmXQw"
      }
    },
    {
      "cell_type": "code",
      "source": [],
      "metadata": {
        "id": "arFYgsELmY4K"
      },
      "execution_count": null,
      "outputs": []
    },
    {
      "cell_type": "markdown",
      "source": [
        "(h) Which suburb of Boston has lowest median value of owner- occupied homes? What are the values of the other predictors for that suburb, and how do those values compare to the overall ranges for those predictors? Comment on your findings."
      ],
      "metadata": {
        "id": "LoqnIfZGmZN6"
      }
    },
    {
      "cell_type": "code",
      "source": [],
      "metadata": {
        "id": "ZQN5BZErmcHm"
      },
      "execution_count": null,
      "outputs": []
    },
    {
      "cell_type": "markdown",
      "source": [
        "(i) In this data set, how many of the suburbs average more than seven rooms per dwelling? More than eight rooms per dwelling? Comment on the suburbs that average more than eight rooms per dwelling."
      ],
      "metadata": {
        "id": "5M4vwon2mcdn"
      }
    }
  ]
}