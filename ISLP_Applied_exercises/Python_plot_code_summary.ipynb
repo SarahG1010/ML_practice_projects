{
 "cells": [
  {
   "cell_type": "code",
   "execution_count": null,
   "id": "f9a64760-2ba6-4bbf-8b6b-2a86d62492bb",
   "metadata": {},
   "outputs": [],
   "source": []
  },
  {
   "cell_type": "markdown",
   "id": "402d4dfe-9db7-4768-ad8f-f77ad557f1ed",
   "metadata": {},
   "source": [
    "# 3 ways to plot multi subplots in one plot"
   ]
  },
  {
   "cell_type": "markdown",
   "id": "831c3c52-40eb-4e0e-bcf6-36f767ad2e84",
   "metadata": {},
   "source": [
    "## Method 1: Using `plt.subplot()` (Best method!! more flexible)"
   ]
  },
  {
   "cell_type": "code",
   "execution_count": null,
   "id": "0448a61d-3608-4101-ad51-3ff8e41ec679",
   "metadata": {},
   "outputs": [],
   "source": [
    "import matplotlib.pyplot as plt\n",
    "\n",
    "plt.subplot(2, 2, 1)\n",
    "plt.plot(x1, y1)\n",
    "\n",
    "plt.subplot(2, 2, 2)\n",
    "plt.plot(x2, y2)\n",
    "\n",
    "plt.subplot(2, 2, 3)\n",
    "plt.plot(x3, y3)\n",
    "\n",
    "plt.subplot(2, 2, 4)\n",
    "plt.plot(x4, y4)\n",
    "\n",
    "plt.show()\n"
   ]
  },
  {
   "cell_type": "code",
   "execution_count": null,
   "id": "3bfa15c3-a78b-47b5-b6fa-51bb71893ab4",
   "metadata": {},
   "outputs": [],
   "source": [
    "df= boston.copy()\n",
    "# Create a figure and a set of subplots\n",
    "\n",
    "plt.figure(figsize=(10, 6))\n",
    "\n",
    "# Access the first subplot (top-left)\n",
    "plt.subplot(2, 2, 1)\n",
    "plt.scatter(df['rm'], df['medv'])\n",
    "plt.xlabel('rm')\n",
    "plt.ylabel('medv');\n",
    "\n",
    "\n",
    "\n",
    "plt.subplot(2, 2, 2)\n",
    "plt.scatter(df['lstat'], df['medv'])\n",
    "plt.xlabel('lstat')\n",
    "plt.ylabel('medv');\n",
    "# Show the plot\n",
    "\n",
    "\n",
    "plt.subplot(2, 2, 3)\n",
    "plt.scatter(df['rm'], df['lstat'])\n",
    "plt.xlabel('rm')\n",
    "plt.ylabel('lstat');\n",
    "\n",
    "# Adjust layout\n",
    "plt.tight_layout()\n",
    "\n",
    "# Show the plot\n",
    "plt.show()76"
   ]
  },
  {
   "cell_type": "markdown",
   "id": "aab97a56-5c7f-4f2e-b5e3-cdef7cba5e59",
   "metadata": {},
   "source": [
    "# Method 2: Using plt.subplots() with ax = ax[i]\n",
    "\n",
    "When you're working with Matplotlib, several plotting methods accept an ax parameter that allows you to specify the Axes object on which to draw the plot. Here are some common plotting methods in Matplotlib that support the ax parameter:\n",
    "\n",
    "#### Plotting Methods for Line Plots:\n",
    "* plot: Used for creating line plots.\n",
    "* scatter: Used for creating scatter plots.\n",
    "* fill_between: Used for creating filled regions between two curves.\n",
    "* errorbar: Used for creating error bars.\n",
    "#### Plotting Methods for Bar Plots:\n",
    "* bar: Used for creating vertical bar plots.\n",
    "* barh: Used for creating horizontal bar plots.\n",
    "* bar_stack: Used for creating stacked bar plots.\n",
    "* bar_stack_ratio: Used for creating stacked bar plots with ratios.\n",
    "#### Plotting Methods for Histograms:\n",
    "* hist: Used for creating histograms.\n",
    "* hist2d: Used for creating two-dimensional histograms.\n",
    "* Plotting Methods for Box Plots:\n",
    "* boxplot: Used for creating box plots.\n",
    "* violinplot: Used for creating violin plots.\n",
    "#### Plotting Methods for Contour Plots:\n",
    "* contour: Used for creating contour plots.\n",
    "* contourf: Used for creating filled contour plots.\n",
    "#### Plotting Methods for Images:\n",
    "* imshow: Used for displaying images.\n",
    "#### Plotting Methods for Polar Plots:\n",
    "* polar: Used for creating polar plots.\n",
    "#### Plotting Methods for Heatmaps:\n",
    "* heatmap: Used for creating heatmaps."
   ]
  },
  {
   "cell_type": "code",
   "execution_count": null,
   "id": "1e2099a2-8ac8-44db-9b46-3be26c3ed4c8",
   "metadata": {},
   "outputs": [],
   "source": [
    "import matplotlib.pyplot as plt\n",
    "\n",
    "fig, axes = plt.subplots(2, 2)\n",
    "\n",
    "# Now, you can access each subplot using indexing\n",
    "axes[0, 0].plot(x1, y1)\n",
    "axes[0, 1].plot(x2, y2)\n",
    "axes[1, 0].plot(x3, y3)\n",
    "axes[1, 1].plot(x4, y4)\n",
    "\n",
    "plt.show()"
   ]
  },
  {
   "cell_type": "markdown",
   "id": "ed1e05a2-0c4d-477b-acb6-8e9733a7e04b",
   "metadata": {},
   "source": [
    "## Method 3: Using `add_subplot()`"
   ]
  },
  {
   "cell_type": "code",
   "execution_count": null,
   "id": "08d47561-ced3-42d5-bf89-ef7c348b08a6",
   "metadata": {},
   "outputs": [],
   "source": [
    "import matplotlib.pyplot as plt\n",
    "\n",
    "fig = plt.figure()\n",
    "\n",
    "ax1 = fig.add_subplot(2, 2, 1)\n",
    "ax1.plot(x1, y1)\n",
    "\n",
    "ax2 = fig.add_subplot(2, 2, 2)\n",
    "ax2.plot(x2, y2)\n",
    "\n",
    "ax3 = fig.add_subplot(2, 2, 3)\n",
    "ax3.plot(x3, y3)\n",
    "\n",
    "ax4 = fig.add_subplot(2, 2, 4)\n",
    "ax4.plot(x4, y4)\n",
    "\n",
    "plt.show()\n"
   ]
  },
  {
   "cell_type": "code",
   "execution_count": null,
   "id": "ec34d9c2-8b77-4f2e-bd7e-2c5f3e4683d9",
   "metadata": {},
   "outputs": [],
   "source": []
  }
 ],
 "metadata": {
  "kernelspec": {
   "display_name": "Python 3 (ipykernel)",
   "language": "python",
   "name": "python3"
  },
  "language_info": {
   "codemirror_mode": {
    "name": "ipython",
    "version": 3
   },
   "file_extension": ".py",
   "mimetype": "text/x-python",
   "name": "python",
   "nbconvert_exporter": "python",
   "pygments_lexer": "ipython3",
   "version": "3.11.7"
  }
 },
 "nbformat": 4,
 "nbformat_minor": 5
}
